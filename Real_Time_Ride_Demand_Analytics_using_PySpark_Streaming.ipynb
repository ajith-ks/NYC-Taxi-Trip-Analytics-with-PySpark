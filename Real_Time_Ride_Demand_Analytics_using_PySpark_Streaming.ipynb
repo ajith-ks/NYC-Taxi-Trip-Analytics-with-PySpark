{
  "nbformat": 4,
  "nbformat_minor": 0,
  "metadata": {
    "colab": {
      "provenance": []
    },
    "kernelspec": {
      "name": "python3",
      "display_name": "Python 3"
    },
    "language_info": {
      "name": "python"
    }
  },
  "cells": [
    {
      "cell_type": "markdown",
      "source": [
        "\n",
        "## NYC Taxi Trip Analytics with PySpark"
      ],
      "metadata": {
        "id": "7De-crEegRkp"
      }
    },
    {
      "cell_type": "markdown",
      "source": [
        "Environment Setup: Java, Spark, and Findspark"
      ],
      "metadata": {
        "id": "lBT1s71hhbLK"
      }
    },
    {
      "cell_type": "code",
      "execution_count": 2,
      "metadata": {
        "id": "eakSd-Jffj76"
      },
      "outputs": [],
      "source": [
        "# Install Java\n",
        "!apt-get install openjdk-8-jdk-headless -qq > /dev/null\n",
        "\n",
        "# Install findspark\n",
        "!pip install -q findspark"
      ]
    },
    {
      "cell_type": "code",
      "source": [
        "# Install PySpark\n",
        "!pip install pyspark\n",
        "\n",
        "# Import necessary libraries\n",
        "from pyspark.sql import SparkSession\n",
        "\n",
        "# Create Spark session\n",
        "spark = SparkSession.builder \\\n",
        "    .appName(\"NYC Taxi Streaming Project\") \\\n",
        "    .getOrCreate()\n",
        "\n",
        "# Verify Spark session\n",
        "spark"
      ],
      "metadata": {
        "colab": {
          "base_uri": "https://localhost:8080/",
          "height": 254
        },
        "id": "5ONhN9sVgedA",
        "outputId": "24b44798-7d7e-4cd1-8c13-0d738d3c305c"
      },
      "execution_count": 3,
      "outputs": [
        {
          "output_type": "stream",
          "name": "stdout",
          "text": [
            "Requirement already satisfied: pyspark in /usr/local/lib/python3.11/dist-packages (3.5.5)\n",
            "Requirement already satisfied: py4j==0.10.9.7 in /usr/local/lib/python3.11/dist-packages (from pyspark) (0.10.9.7)\n"
          ]
        },
        {
          "output_type": "execute_result",
          "data": {
            "text/plain": [
              "<pyspark.sql.session.SparkSession at 0x7936c0033450>"
            ],
            "text/html": [
              "\n",
              "            <div>\n",
              "                <p><b>SparkSession - in-memory</b></p>\n",
              "                \n",
              "        <div>\n",
              "            <p><b>SparkContext</b></p>\n",
              "\n",
              "            <p><a href=\"http://0c6c2a6d3da0:4040\">Spark UI</a></p>\n",
              "\n",
              "            <dl>\n",
              "              <dt>Version</dt>\n",
              "                <dd><code>v3.5.5</code></dd>\n",
              "              <dt>Master</dt>\n",
              "                <dd><code>local[*]</code></dd>\n",
              "              <dt>AppName</dt>\n",
              "                <dd><code>NYC Taxi Streaming Project</code></dd>\n",
              "            </dl>\n",
              "        </div>\n",
              "        \n",
              "            </div>\n",
              "        "
            ]
          },
          "metadata": {},
          "execution_count": 3
        }
      ]
    },
    {
      "cell_type": "markdown",
      "source": [
        "Data Cleaning & Preprocessing"
      ],
      "metadata": {
        "id": "YkHZfOSdhfhH"
      }
    },
    {
      "cell_type": "code",
      "source": [
        "import pandas as pd\n",
        "import time\n",
        "from pyspark.sql.functions import col, to_timestamp"
      ],
      "metadata": {
        "id": "iL6iXu2shRMl"
      },
      "execution_count": 4,
      "outputs": []
    },
    {
      "cell_type": "code",
      "source": [
        "# NYC Taxi data (Jan 2021)\n",
        "url = \"https://github.com/DataTalksClub/nyc-tlc-data/releases/download/yellow/yellow_tripdata_2021-01.csv.gz\"\n"
      ],
      "metadata": {
        "id": "WYpYqNV0hykS"
      },
      "execution_count": 5,
      "outputs": []
    },
    {
      "cell_type": "code",
      "source": [
        "chunksize = 10000  # rows per \"stream\"\n",
        "stream_count = 0\n",
        "\n",
        "for chunk in pd.read_csv(url, chunksize=chunksize):\n",
        "    stream_count += 1\n",
        "    print(f\"\\n Streaming Batch {stream_count}\")\n",
        "\n",
        "    # Convert to Spark DataFrame\n",
        "    sdf = spark.createDataFrame(chunk)\n",
        "\n",
        "    # Rename columns to lowercase for consistency\n",
        "    for col_name in sdf.columns:\n",
        "        sdf = sdf.withColumnRenamed(col_name, col_name.lower())\n",
        "\n",
        "    # Convert pickup and dropoff to timestamp\n",
        "    sdf = sdf.withColumn(\"pickup_datetime\", to_timestamp(col(\"tpep_pickup_datetime\"))) \\\n",
        "             .withColumn(\"dropoff_datetime\", to_timestamp(col(\"tpep_dropoff_datetime\")))\n",
        "\n",
        "    # Drop rows with nulls in important columns\n",
        "    sdf = sdf.dropna(subset=[\"pickup_datetime\", \"dropoff_datetime\", \"passenger_count\", \"trip_distance\", \"total_amount\"])\n",
        "\n",
        "    # Filter invalid/irrelevant trips\n",
        "    sdf = sdf.filter((col(\"trip_distance\") > 0) & (col(\"total_amount\") > 0) & (col(\"passenger_count\") > 0))\n",
        "\n",
        "    # Preview cleaned batch\n",
        "    sdf.select(\"pickup_datetime\", \"dropoff_datetime\", \"trip_distance\", \"passenger_count\", \"total_amount\") \\\n",
        "       .show(5, truncate=False)\n",
        "\n",
        "    # Simulate 2s delay like real-time streaming\n",
        "    time.sleep(2)\n",
        "\n",
        "    if stream_count == 3:\n",
        "        print(\"✅ Cleaned and preprocessed 3 streamed batches.\")\n",
        "        break"
      ],
      "metadata": {
        "colab": {
          "base_uri": "https://localhost:8080/"
        },
        "id": "z9olJKO9h4JV",
        "outputId": "0c7ee432-a30e-4671-8577-14db59d7f5ea"
      },
      "execution_count": 6,
      "outputs": [
        {
          "output_type": "stream",
          "name": "stdout",
          "text": [
            "\n",
            " Streaming Batch 1\n",
            "+-------------------+-------------------+-------------+---------------+------------+\n",
            "|pickup_datetime    |dropoff_datetime   |trip_distance|passenger_count|total_amount|\n",
            "+-------------------+-------------------+-------------+---------------+------------+\n",
            "|2021-01-01 00:30:10|2021-01-01 00:36:12|2.1          |1              |11.8        |\n",
            "|2021-01-01 00:51:20|2021-01-01 00:52:19|0.2          |1              |4.3         |\n",
            "|2021-01-01 00:43:30|2021-01-01 01:11:06|14.7         |1              |51.95       |\n",
            "|2021-01-01 00:31:49|2021-01-01 00:48:21|4.94         |1              |24.36       |\n",
            "|2021-01-01 00:16:29|2021-01-01 00:24:30|1.6          |1              |14.15       |\n",
            "+-------------------+-------------------+-------------+---------------+------------+\n",
            "only showing top 5 rows\n",
            "\n",
            "\n",
            " Streaming Batch 2\n",
            "+-------------------+-------------------+-------------+---------------+------------+\n",
            "|pickup_datetime    |dropoff_datetime   |trip_distance|passenger_count|total_amount|\n",
            "+-------------------+-------------------+-------------+---------------+------------+\n",
            "|2021-01-01 13:52:39|2021-01-01 13:58:18|1.5          |1              |10.8        |\n",
            "|2021-01-01 13:22:12|2021-01-01 13:38:29|3.57         |3              |17.3        |\n",
            "|2021-01-01 13:01:20|2021-01-01 13:18:02|5.64         |1              |26.76       |\n",
            "|2021-01-01 13:26:31|2021-01-01 13:32:09|0.99         |1              |11.16       |\n",
            "|2021-01-01 13:38:13|2021-01-01 13:49:55|2.41         |3              |17.94       |\n",
            "+-------------------+-------------------+-------------+---------------+------------+\n",
            "only showing top 5 rows\n",
            "\n",
            "\n",
            " Streaming Batch 3\n",
            "+-------------------+-------------------+-------------+---------------+------------+\n",
            "|pickup_datetime    |dropoff_datetime   |trip_distance|passenger_count|total_amount|\n",
            "+-------------------+-------------------+-------------+---------------+------------+\n",
            "|2021-01-01 19:09:37|2021-01-01 19:14:57|1.17         |2              |11.62       |\n",
            "|2021-01-01 19:42:28|2021-01-01 19:46:09|0.77         |2              |7.8         |\n",
            "|2021-01-01 19:09:54|2021-01-01 19:11:14|0.36         |1              |6.3         |\n",
            "|2021-01-01 19:13:56|2021-01-01 19:22:30|1.9          |1              |14.16       |\n",
            "|2021-01-01 19:54:48|2021-01-01 20:13:02|3.9          |1              |22.56       |\n",
            "+-------------------+-------------------+-------------+---------------+------------+\n",
            "only showing top 5 rows\n",
            "\n",
            "✅ Cleaned and preprocessed 3 streamed batches.\n"
          ]
        }
      ]
    },
    {
      "cell_type": "markdown",
      "source": [
        "Feature Engineering"
      ],
      "metadata": {
        "id": "pQvViVWeiPCQ"
      }
    },
    {
      "cell_type": "code",
      "source": [
        "from pyspark.sql.functions import hour, dayofweek, month, when, unix_timestamp"
      ],
      "metadata": {
        "id": "iDPqjNFgiBB6"
      },
      "execution_count": 7,
      "outputs": []
    },
    {
      "cell_type": "code",
      "source": [
        "# Extract time-based features\n",
        "sdf = sdf.withColumn(\"pickup_hour\", hour(\"pickup_datetime\")) \\\n",
        "         .withColumn(\"pickup_day\", dayofweek(\"pickup_datetime\")) \\\n",
        "         .withColumn(\"pickup_month\", month(\"pickup_datetime\"))\n",
        "\n",
        "# Rush hour flag: 7-9 AM and 4-7 PM weekdays\n",
        "sdf = sdf.withColumn(\"rush_hour_flag\", when(\n",
        "    ((col(\"pickup_hour\").between(7, 9)) | (col(\"pickup_hour\").between(16, 19))) &\n",
        "    (col(\"pickup_day\").between(2, 6)), 1).otherwise(0)\n",
        ")\n",
        "\n",
        "# Trip duration in minutes\n",
        "sdf = sdf.withColumn(\"trip_duration_min\",\n",
        "                     (unix_timestamp(\"dropoff_datetime\") - unix_timestamp(\"pickup_datetime\")) / 60)\n",
        "\n",
        "# Bucket distance\n",
        "sdf = sdf.withColumn(\"distance_bucket\", when(col(\"trip_distance\") < 2, \"short\") \\\n",
        "                     .when(col(\"trip_distance\").between(2, 5), \"medium\") \\\n",
        "                     .otherwise(\"long\"))\n"
      ],
      "metadata": {
        "id": "v9pHoSgdiSJX"
      },
      "execution_count": 8,
      "outputs": []
    },
    {
      "cell_type": "code",
      "source": [
        "# Preview engineered features\n",
        "sdf.select(\"pickup_datetime\", \"pickup_hour\", \"pickup_day\", \"rush_hour_flag\",\n",
        "           \"trip_distance\", \"trip_duration_min\", \"distance_bucket\", \"total_amount\") \\\n",
        "   .show(10, truncate=False)"
      ],
      "metadata": {
        "colab": {
          "base_uri": "https://localhost:8080/"
        },
        "id": "gge2paTbia7k",
        "outputId": "c2b8f88b-d73e-446e-a5de-30df6a98ab14"
      },
      "execution_count": 9,
      "outputs": [
        {
          "output_type": "stream",
          "name": "stdout",
          "text": [
            "+-------------------+-----------+----------+--------------+-------------+------------------+---------------+------------+\n",
            "|pickup_datetime    |pickup_hour|pickup_day|rush_hour_flag|trip_distance|trip_duration_min |distance_bucket|total_amount|\n",
            "+-------------------+-----------+----------+--------------+-------------+------------------+---------------+------------+\n",
            "|2021-01-01 19:09:37|19         |6         |1             |1.17         |5.333333333333333 |short          |11.62       |\n",
            "|2021-01-01 19:42:28|19         |6         |1             |0.77         |3.683333333333333 |short          |7.8         |\n",
            "|2021-01-01 19:09:54|19         |6         |1             |0.36         |1.3333333333333333|short          |6.3         |\n",
            "|2021-01-01 19:13:56|19         |6         |1             |1.9          |8.566666666666666 |short          |14.16       |\n",
            "|2021-01-01 19:54:48|19         |6         |1             |3.9          |18.233333333333334|medium         |22.56       |\n",
            "|2021-01-01 19:06:09|19         |6         |1             |1.45         |8.066666666666666 |short          |12.96       |\n",
            "|2021-01-01 19:32:43|19         |6         |1             |2.49         |9.133333333333333 |medium         |15.36       |\n",
            "|2021-01-01 19:55:21|19         |6         |1             |3.2          |9.833333333333334 |medium         |18.36       |\n",
            "|2021-01-01 19:38:59|19         |6         |1             |1.76         |6.4               |short          |12.8        |\n",
            "|2021-01-01 19:48:00|19         |6         |1             |1.28         |5.233333333333333 |short          |11.62       |\n",
            "+-------------------+-----------+----------+--------------+-------------+------------------+---------------+------------+\n",
            "only showing top 10 rows\n",
            "\n"
          ]
        }
      ]
    },
    {
      "cell_type": "markdown",
      "source": [
        "EDA"
      ],
      "metadata": {
        "id": "A2T2_v5Hi6BQ"
      }
    },
    {
      "cell_type": "code",
      "source": [
        "import matplotlib.pyplot as plt\n",
        "import seaborn as sns\n",
        "from pyspark.sql.functions import avg, count"
      ],
      "metadata": {
        "id": "NSvHyf10iyWu"
      },
      "execution_count": 10,
      "outputs": []
    },
    {
      "cell_type": "code",
      "source": [
        "# Aggregated Stats: Rush Hour vs Non-Rush\n",
        "rush_stats = sdf.groupBy(\"rush_hour_flag\") \\\n",
        "    .agg(avg(\"trip_distance\").alias(\"avg_distance\"),\n",
        "         avg(\"total_amount\").alias(\"avg_fare\"),\n",
        "         count(\"*\").alias(\"trip_count\"))\n",
        "\n",
        "rush_stats.show()"
      ],
      "metadata": {
        "colab": {
          "base_uri": "https://localhost:8080/"
        },
        "id": "1C7N8Jxai_E1",
        "outputId": "babe4e6b-57ab-4a96-ed41-70a0c3a6948c"
      },
      "execution_count": 11,
      "outputs": [
        {
          "output_type": "stream",
          "name": "stdout",
          "text": [
            "+--------------+------------------+------------------+----------+\n",
            "|rush_hour_flag|      avg_distance|          avg_fare|trip_count|\n",
            "+--------------+------------------+------------------+----------+\n",
            "|             1| 3.353746958637467|18.122043795620502|       411|\n",
            "|             0|3.5818699010116357|18.349531165017662|      9193|\n",
            "+--------------+------------------+------------------+----------+\n",
            "\n"
          ]
        }
      ]
    },
    {
      "cell_type": "code",
      "source": [
        "# Convert to Pandas for Visuals\n",
        "# Hourly trip count\n",
        "hourly_df = sdf.groupBy(\"pickup_hour\") \\\n",
        "    .count() \\\n",
        "    .orderBy(\"pickup_hour\") \\\n",
        "    .toPandas()"
      ],
      "metadata": {
        "id": "G1ylIY3cjEd2"
      },
      "execution_count": 12,
      "outputs": []
    },
    {
      "cell_type": "code",
      "source": [
        "# Line plot for trip distribution by hour\n",
        "plt.figure(figsize=(10,5))\n",
        "sns.lineplot(data=hourly_df, x=\"pickup_hour\", y=\"count\", marker=\"o\")\n",
        "plt.title(\"Trips per Hour of Day\")\n",
        "plt.xlabel(\"Hour\")\n",
        "plt.ylabel(\"Trip Count\")\n",
        "plt.grid(True)\n",
        "plt.show()"
      ],
      "metadata": {
        "colab": {
          "base_uri": "https://localhost:8080/",
          "height": 487
        },
        "id": "-ggO9plCjIhW",
        "outputId": "52a85d5b-d9aa-497a-e482-77e7fadb0aed"
      },
      "execution_count": 13,
      "outputs": [
        {
          "output_type": "display_data",
          "data": {
            "text/plain": [
              "<Figure size 1000x500 with 1 Axes>"
            ],
            "image/png": "[encoded data removed]"
          },
          "metadata": {}
        }
      ]
    },
    {
      "cell_type": "code",
      "source": [
        "# Box Plot: Trip Duration by Distance Bucket\n",
        "bucket_df = sdf.select(\"distance_bucket\", \"trip_duration_min\") \\\n",
        "    .dropna() \\\n",
        "    .toPandas()\n",
        "\n",
        "plt.figure(figsize=(8,6))\n",
        "sns.boxplot(data=bucket_df, x=\"distance_bucket\", y=\"trip_duration_min\")\n",
        "plt.title(\"Trip Duration Distribution by Distance Bucket\")\n",
        "plt.ylabel(\"Trip Duration (min)\")\n",
        "plt.xlabel(\"Trip Type\")\n",
        "plt.show()"
      ],
      "metadata": {
        "colab": {
          "base_uri": "https://localhost:8080/",
          "height": 564
        },
        "id": "JR3oarW7jNHF",
        "outputId": "c1a0cf93-2673-4d47-cb05-8325445d992b"
      },
      "execution_count": 14,
      "outputs": [
        {
          "output_type": "display_data",
          "data": {
            "text/plain": [
              "<Figure size 800x600 with 1 Axes>"
            ],
            "image/png": "[encoded data removed]"
          },
          "metadata": {}
        }
      ]
    },
    {
      "cell_type": "markdown",
      "source": [
        "Data Quality Checks & Validations"
      ],
      "metadata": {
        "id": "bMDgc2J0YO6f"
      }
    },
    {
      "cell_type": "markdown",
      "source": [
        "1. Null / Missing Value Check"
      ],
      "metadata": {
        "id": "ljp9fwBqYTgz"
      }
    },
    {
      "cell_type": "code",
      "source": [
        "from pyspark.sql.functions import col, count, when, isnan"
      ],
      "metadata": {
        "id": "elEdlXhtYQ9k"
      },
      "execution_count": 15,
      "outputs": []
    },
    {
      "cell_type": "code",
      "source": [
        "null_nan_summary = sdf.select([\n",
        "    count(when(col(c).isNull() | isnan(col(c)), c)).alias(c + \"_null_nan\")\n",
        "    if dict(sdf.dtypes)[c] in ('double', 'float') else\n",
        "    count(when(col(c).isNull(), c)).alias(c + \"_null\")\n",
        "    for c in sdf.columns\n",
        "])\n",
        "null_nan_summary.show()"
      ],
      "metadata": {
        "colab": {
          "base_uri": "https://localhost:8080/"
        },
        "id": "E9fGbc5XYXfs",
        "outputId": "6deb4e8f-8210-464e-a17a-f4a7d82eb4dd"
      },
      "execution_count": 16,
      "outputs": [
        {
          "output_type": "stream",
          "name": "stdout",
          "text": [
            "+-------------+-------------------------+--------------------------+--------------------+----------------------+---------------+-----------------------+-----------------+-----------------+-----------------+--------------------+--------------+----------------+-------------------+---------------------+------------------------------+---------------------+-----------------------------+--------------------+---------------------+----------------+---------------+-----------------+-------------------+--------------------------+--------------------+\n",
            "|vendorid_null|tpep_pickup_datetime_null|tpep_dropoff_datetime_null|passenger_count_null|trip_distance_null_nan|ratecodeid_null|store_and_fwd_flag_null|pulocationid_null|dolocationid_null|payment_type_null|fare_amount_null_nan|extra_null_nan|mta_tax_null_nan|tip_amount_null_nan|tolls_amount_null_nan|improvement_surcharge_null_nan|total_amount_null_nan|congestion_surcharge_null_nan|pickup_datetime_null|dropoff_datetime_null|pickup_hour_null|pickup_day_null|pickup_month_null|rush_hour_flag_null|trip_duration_min_null_nan|distance_bucket_null|\n",
            "+-------------+-------------------------+--------------------------+--------------------+----------------------+---------------+-----------------------+-----------------+-----------------+-----------------+--------------------+--------------+----------------+-------------------+---------------------+------------------------------+---------------------+-----------------------------+--------------------+---------------------+----------------+---------------+-----------------+-------------------+--------------------------+--------------------+\n",
            "|            0|                        0|                         0|                   0|                     0|              0|                      0|                0|                0|                0|                   0|             0|               0|                  0|                    0|                             0|                    0|                            0|                   0|                    0|               0|              0|                0|                  0|                         0|                   0|\n",
            "+-------------+-------------------------+--------------------------+--------------------+----------------------+---------------+-----------------------+-----------------+-----------------+-----------------+--------------------+--------------+----------------+-------------------+---------------------+------------------------------+---------------------+-----------------------------+--------------------+---------------------+----------------+---------------+-----------------+-------------------+--------------------------+--------------------+\n",
            "\n"
          ]
        }
      ]
    },
    {
      "cell_type": "markdown",
      "source": [
        ". Duplicate Record Check (based on pickup + dropoff + passenger count)"
      ],
      "metadata": {
        "id": "NHPXh9Z3ZMoT"
      }
    },
    {
      "cell_type": "code",
      "source": [
        "dup_cols = [\"tpep_pickup_datetime\", \"tpep_dropoff_datetime\", \"passenger_count\"]\n",
        "\n",
        "duplicate_count = sdf.groupBy(dup_cols).count().filter(\"count > 1\").count()\n",
        "print(f\"🚨 Duplicate records found: {duplicate_count}\")"
      ],
      "metadata": {
        "colab": {
          "base_uri": "https://localhost:8080/"
        },
        "id": "rSLHP7dKZN49",
        "outputId": "37e1cbb9-104e-4002-f547-d2a3f35206eb"
      },
      "execution_count": 17,
      "outputs": [
        {
          "output_type": "stream",
          "name": "stdout",
          "text": [
            "🚨 Duplicate records found: 1\n"
          ]
        }
      ]
    },
    {
      "cell_type": "markdown",
      "source": [
        "3. Schema Check"
      ],
      "metadata": {
        "id": "FDuY0y5WZRPa"
      }
    },
    {
      "cell_type": "code",
      "source": [
        "sdf.printSchema()"
      ],
      "metadata": {
        "colab": {
          "base_uri": "https://localhost:8080/"
        },
        "id": "Jc1g7ajJZR3M",
        "outputId": "e332a212-b3fc-425b-ae82-53d21dca3248"
      },
      "execution_count": 18,
      "outputs": [
        {
          "output_type": "stream",
          "name": "stdout",
          "text": [
            "root\n",
            " |-- vendorid: long (nullable = true)\n",
            " |-- tpep_pickup_datetime: string (nullable = true)\n",
            " |-- tpep_dropoff_datetime: string (nullable = true)\n",
            " |-- passenger_count: long (nullable = true)\n",
            " |-- trip_distance: double (nullable = true)\n",
            " |-- ratecodeid: long (nullable = true)\n",
            " |-- store_and_fwd_flag: string (nullable = true)\n",
            " |-- pulocationid: long (nullable = true)\n",
            " |-- dolocationid: long (nullable = true)\n",
            " |-- payment_type: long (nullable = true)\n",
            " |-- fare_amount: double (nullable = true)\n",
            " |-- extra: double (nullable = true)\n",
            " |-- mta_tax: double (nullable = true)\n",
            " |-- tip_amount: double (nullable = true)\n",
            " |-- tolls_amount: double (nullable = true)\n",
            " |-- improvement_surcharge: double (nullable = true)\n",
            " |-- total_amount: double (nullable = true)\n",
            " |-- congestion_surcharge: double (nullable = true)\n",
            " |-- pickup_datetime: timestamp (nullable = true)\n",
            " |-- dropoff_datetime: timestamp (nullable = true)\n",
            " |-- pickup_hour: integer (nullable = true)\n",
            " |-- pickup_day: integer (nullable = true)\n",
            " |-- pickup_month: integer (nullable = true)\n",
            " |-- rush_hour_flag: integer (nullable = false)\n",
            " |-- trip_duration_min: double (nullable = true)\n",
            " |-- distance_bucket: string (nullable = false)\n",
            "\n"
          ]
        }
      ]
    },
    {
      "cell_type": "markdown",
      "source": [
        "4. Basic Sanity Checks"
      ],
      "metadata": {
        "id": "e3zZpnDLZi1j"
      }
    },
    {
      "cell_type": "code",
      "source": [
        "sdf.filter((col(\"trip_distance\") < 0) | (col(\"trip_duration_min\") < 0)).show()"
      ],
      "metadata": {
        "colab": {
          "base_uri": "https://localhost:8080/"
        },
        "id": "GaP6eu_YZjV1",
        "outputId": "e1306f9b-00fd-478c-9b26-f24d4de988f4"
      },
      "execution_count": 19,
      "outputs": [
        {
          "output_type": "stream",
          "name": "stdout",
          "text": [
            "+--------+--------------------+---------------------+---------------+-------------+----------+------------------+------------+------------+------------+-----------+-----+-------+----------+------------+---------------------+------------+--------------------+---------------+----------------+-----------+----------+------------+--------------+-----------------+---------------+\n",
            "|vendorid|tpep_pickup_datetime|tpep_dropoff_datetime|passenger_count|trip_distance|ratecodeid|store_and_fwd_flag|pulocationid|dolocationid|payment_type|fare_amount|extra|mta_tax|tip_amount|tolls_amount|improvement_surcharge|total_amount|congestion_surcharge|pickup_datetime|dropoff_datetime|pickup_hour|pickup_day|pickup_month|rush_hour_flag|trip_duration_min|distance_bucket|\n",
            "+--------+--------------------+---------------------+---------------+-------------+----------+------------------+------------+------------+------------+-----------+-----+-------+----------+------------+---------------------+------------+--------------------+---------------+----------------+-----------+----------+------------+--------------+-----------------+---------------+\n",
            "+--------+--------------------+---------------------+---------------+-------------+----------+------------------+------------+------------+------------+-----------+-----+-------+----------+------------+---------------------+------------+--------------------+---------------+----------------+-----------+----------+------------+--------------+-----------------+---------------+\n",
            "\n"
          ]
        }
      ]
    },
    {
      "cell_type": "code",
      "source": [
        "sdf.orderBy(col(\"total_amount\").desc()).select(\"total_amount\", \"trip_distance\", \"trip_duration_min\").show(5)\n"
      ],
      "metadata": {
        "colab": {
          "base_uri": "https://localhost:8080/"
        },
        "id": "OkWNHb0lZjoj",
        "outputId": "bd95c4b1-38c2-4249-e24e-35c09033b100"
      },
      "execution_count": 20,
      "outputs": [
        {
          "output_type": "stream",
          "name": "stdout",
          "text": [
            "+------------+-------------+------------------+\n",
            "|total_amount|trip_distance| trip_duration_min|\n",
            "+------------+-------------+------------------+\n",
            "|       228.3|        48.68|              56.9|\n",
            "|       175.2|        35.45|             45.95|\n",
            "|      152.35|        33.96|49.083333333333336|\n",
            "|       133.8|         0.73|1.1166666666666667|\n",
            "|      132.96|         38.7| 73.58333333333333|\n",
            "+------------+-------------+------------------+\n",
            "only showing top 5 rows\n",
            "\n"
          ]
        }
      ]
    },
    {
      "cell_type": "markdown",
      "source": [
        "Save Cleaned Data to Parquet Format"
      ],
      "metadata": {
        "id": "eJD2PZIbj6sv"
      }
    },
    {
      "cell_type": "markdown",
      "source": [
        "Save the final data as Parquet, partitioned by year and month"
      ],
      "metadata": {
        "id": "oL5L3KudWGLX"
      }
    },
    {
      "cell_type": "code",
      "source": [
        "from pyspark.sql.functions import year, month"
      ],
      "metadata": {
        "id": "yL6cptJejo7Z"
      },
      "execution_count": 21,
      "outputs": []
    },
    {
      "cell_type": "code",
      "source": [
        "# Extract Year and Month for Partitioning\n",
        "sdf = sdf.withColumn(\"pickup_year\", year(\"tpep_pickup_datetime\")) \\\n",
        "         .withColumn(\"pickup_month\", month(\"tpep_pickup_datetime\"))"
      ],
      "metadata": {
        "id": "E978Zz3PWKMp"
      },
      "execution_count": 22,
      "outputs": []
    },
    {
      "cell_type": "code",
      "source": [
        "# Save Final Enriched Data in Partitioned Parquet\n",
        "output_path = \"/content/nyc_yellow_tripdata_parquet\"\n",
        "\n",
        "sdf.write \\\n",
        "  .partitionBy(\"pickup_year\", \"pickup_month\") \\\n",
        "  .mode(\"overwrite\") \\\n",
        "  .parquet(output_path)\n",
        "\n",
        "print(\"✅ Parquet files saved at:\", output_path)"
      ],
      "metadata": {
        "colab": {
          "base_uri": "https://localhost:8080/"
        },
        "id": "at334JncWN5V",
        "outputId": "060c08e2-d1bc-4a00-d74f-e9e8b4e422ef"
      },
      "execution_count": 23,
      "outputs": [
        {
          "output_type": "stream",
          "name": "stdout",
          "text": [
            "✅ Parquet files saved at: /content/nyc_yellow_tripdata_parquet\n"
          ]
        }
      ]
    },
    {
      "cell_type": "markdown",
      "source": [
        "Check Folder Structure"
      ],
      "metadata": {
        "id": "arUOZMgLW1dZ"
      }
    },
    {
      "cell_type": "code",
      "source": [
        "import os\n",
        "\n",
        "# Show a few files from the saved path\n",
        "for root, dirs, files in os.walk(output_path):\n",
        "    for name in files:\n",
        "        print(os.path.join(root, name))"
      ],
      "metadata": {
        "colab": {
          "base_uri": "https://localhost:8080/"
        },
        "id": "LdMZIhV8WxPU",
        "outputId": "b5acd7a1-9a36-4a57-b963-addce28014db"
      },
      "execution_count": 24,
      "outputs": [
        {
          "output_type": "stream",
          "name": "stdout",
          "text": [
            "/content/nyc_yellow_tripdata_parquet/_SUCCESS\n",
            "/content/nyc_yellow_tripdata_parquet/._SUCCESS.crc\n",
            "/content/nyc_yellow_tripdata_parquet/pickup_year=2021/pickup_month=1/part-00001-3f3943b5-2eb4-4c7c-84a4-056ff6ec1d4f.c000.snappy.parquet\n",
            "/content/nyc_yellow_tripdata_parquet/pickup_year=2021/pickup_month=1/.part-00000-3f3943b5-2eb4-4c7c-84a4-056ff6ec1d4f.c000.snappy.parquet.crc\n",
            "/content/nyc_yellow_tripdata_parquet/pickup_year=2021/pickup_month=1/part-00000-3f3943b5-2eb4-4c7c-84a4-056ff6ec1d4f.c000.snappy.parquet\n",
            "/content/nyc_yellow_tripdata_parquet/pickup_year=2021/pickup_month=1/.part-00001-3f3943b5-2eb4-4c7c-84a4-056ff6ec1d4f.c000.snappy.parquet.crc\n"
          ]
        }
      ]
    },
    {
      "cell_type": "markdown",
      "source": [
        "Goal: Predict total_amount (Trip Fare)"
      ],
      "metadata": {
        "id": "SJlu3VPDab1v"
      }
    },
    {
      "cell_type": "markdown",
      "source": [
        "Feature Selection"
      ],
      "metadata": {
        "id": "8EGQkujHalNK"
      }
    },
    {
      "cell_type": "code",
      "source": [
        "features = [\n",
        "    \"passenger_count\",\n",
        "    \"trip_distance\",\n",
        "    \"pulocationid\",\n",
        "    \"dolocationid\",\n",
        "    \"payment_type_indexed\",\n",
        "    \"fare_amount\",\n",
        "    \"extra\",\n",
        "    \"mta_tax\",\n",
        "    \"tip_amount\",\n",
        "    \"tolls_amount\",\n",
        "    \"improvement_surcharge\"\n",
        "]\n"
      ],
      "metadata": {
        "id": "FTWLa6RmW6cV"
      },
      "execution_count": 25,
      "outputs": []
    },
    {
      "cell_type": "markdown",
      "source": [
        "Handle Categorical Features"
      ],
      "metadata": {
        "id": "HpW0ARRBanz0"
      }
    },
    {
      "cell_type": "code",
      "source": [
        "from pyspark.ml.feature import StringIndexer\n",
        "\n",
        "indexer = StringIndexer(inputCol=\"payment_type\", outputCol=\"payment_type_indexed\")\n",
        "sdf = indexer.fit(sdf).transform(sdf)\n"
      ],
      "metadata": {
        "id": "3POyt754ar9K"
      },
      "execution_count": 26,
      "outputs": []
    },
    {
      "cell_type": "markdown",
      "source": [
        "Assemble Features"
      ],
      "metadata": {
        "id": "Gz6QdZ_fatNS"
      }
    },
    {
      "cell_type": "code",
      "source": [
        "from pyspark.ml.feature import VectorAssembler\n",
        "\n",
        "assembler = VectorAssembler(\n",
        "    inputCols=features,\n",
        "    outputCol=\"features\"\n",
        ")\n",
        "\n",
        "final_data = assembler.transform(sdf).select(\"features\", \"total_amount\")\n"
      ],
      "metadata": {
        "id": "-MBXe_37ahEV"
      },
      "execution_count": 27,
      "outputs": []
    },
    {
      "cell_type": "markdown",
      "source": [
        "Train-Test Split"
      ],
      "metadata": {
        "id": "2whUGNLwayjK"
      }
    },
    {
      "cell_type": "code",
      "source": [
        "train_data, test_data = final_data.randomSplit([0.8, 0.2], seed=42)"
      ],
      "metadata": {
        "id": "KI5Ez0IqbzOs"
      },
      "execution_count": 28,
      "outputs": []
    },
    {
      "cell_type": "markdown",
      "source": [
        "Train Model (Linear Regression)"
      ],
      "metadata": {
        "id": "XjQZOt7Bb1w7"
      }
    },
    {
      "cell_type": "code",
      "source": [
        "from pyspark.ml.regression import LinearRegression\n",
        "\n",
        "lr = LinearRegression(labelCol=\"total_amount\", featuresCol=\"features\")\n",
        "lr_model = lr.fit(train_data)\n"
      ],
      "metadata": {
        "id": "38vXV3Ngb5pw"
      },
      "execution_count": 29,
      "outputs": []
    },
    {
      "cell_type": "markdown",
      "source": [
        "Evaluate"
      ],
      "metadata": {
        "id": "i9AZSQ1Tb8ys"
      }
    },
    {
      "cell_type": "code",
      "source": [
        "test_results = lr_model.evaluate(test_data)\n",
        "\n",
        "print(f\"RMSE: {test_results.rootMeanSquaredError}\")\n",
        "print(f\"R²: {test_results.r2}\")"
      ],
      "metadata": {
        "colab": {
          "base_uri": "https://localhost:8080/"
        },
        "id": "Dlx-gCNPb7_m",
        "outputId": "84cf5f07-e11c-44a9-a8ce-1481981ea485"
      },
      "execution_count": 30,
      "outputs": [
        {
          "output_type": "stream",
          "name": "stdout",
          "text": [
            "RMSE: 0.8259092201374664\n",
            "R²: 0.996918702449858\n"
          ]
        }
      ]
    },
    {
      "cell_type": "markdown",
      "source": [
        "Save Model"
      ],
      "metadata": {
        "id": "qiTvqK4ZcJux"
      }
    },
    {
      "cell_type": "code",
      "source": [
        "model_path = \"/content/nyc_fare_model\"\n",
        "lr_model.save(model_path)"
      ],
      "metadata": {
        "id": "Fe_t_bAfcA3a"
      },
      "execution_count": 31,
      "outputs": []
    },
    {
      "cell_type": "markdown",
      "source": [
        "The Linear Regression model shows excellent performance with an R² of 99.7%, meaning it explains 99.7% of the variation in trip fares. The RMSE of 0.83 indicates very low prediction error, confirming high accuracy."
      ],
      "metadata": {
        "id": "JccxCDGxeRSw"
      }
    },
    {
      "cell_type": "markdown",
      "source": [
        "Dashboard Integration"
      ],
      "metadata": {
        "id": "Hm_sWlVKewOI"
      }
    },
    {
      "cell_type": "code",
      "source": [
        "predictions = lr_model.transform(test_data)\n",
        "predictions.select(\"features\", \"total_amount\", \"prediction\").show(5)\n"
      ],
      "metadata": {
        "colab": {
          "base_uri": "https://localhost:8080/"
        },
        "id": "1EjktwD7fNbX",
        "outputId": "54b940eb-0340-4718-e2ec-54233216396c"
      },
      "execution_count": 32,
      "outputs": [
        {
          "output_type": "stream",
          "name": "stdout",
          "text": [
            "+--------------------+------------+------------------+\n",
            "|            features|total_amount|        prediction|\n",
            "+--------------------+------------+------------------+\n",
            "|(11,[0,1,2,3,4,10...|         0.3|0.3661856378288103|\n",
            "|(11,[0,1,2,3,5,10...|        62.3|61.878227843960204|\n",
            "|(11,[0,1,2,3,5,10...|        30.3|31.062951790741256|\n",
            "|[1.0,0.02,41.0,41...|         4.8| 6.289179929574668|\n",
            "|[1.0,0.03,151.0,1...|         6.8| 8.757114903179412|\n",
            "+--------------------+------------+------------------+\n",
            "only showing top 5 rows\n",
            "\n"
          ]
        }
      ]
    },
    {
      "cell_type": "code",
      "source": [
        "#Export final DataFrame with predictions:\n",
        "\n",
        "predictions.select(\"features\", \"total_amount\", \"prediction\") \\\n",
        "    .write.mode(\"overwrite\") \\\n",
        "    .parquet(\"/content/predicted_fares\")"
      ],
      "metadata": {
        "id": "YsTnStFNcFi3"
      },
      "execution_count": 33,
      "outputs": []
    },
    {
      "cell_type": "code",
      "source": [
        "!zip -r predicted_fares.zip /content/predicted_fares\n"
      ],
      "metadata": {
        "colab": {
          "base_uri": "https://localhost:8080/"
        },
        "id": "AcaBttZzgG0V",
        "outputId": "5eeffeb7-e580-41ec-b34a-5411064b2d91"
      },
      "execution_count": 34,
      "outputs": [
        {
          "output_type": "stream",
          "name": "stdout",
          "text": [
            "  adding: content/predicted_fares/ (stored 0%)\n",
            "  adding: content/predicted_fares/part-00001-3552580e-bfe8-4104-bfab-3831c19793a6-c000.snappy.parquet (deflated 14%)\n",
            "  adding: content/predicted_fares/part-00000-3552580e-bfe8-4104-bfab-3831c19793a6-c000.snappy.parquet (deflated 13%)\n",
            "  adding: content/predicted_fares/_SUCCESS (stored 0%)\n",
            "  adding: content/predicted_fares/._SUCCESS.crc (stored 0%)\n",
            "  adding: content/predicted_fares/.part-00000-3552580e-bfe8-4104-bfab-3831c19793a6-c000.snappy.parquet.crc (stored 0%)\n",
            "  adding: content/predicted_fares/.part-00001-3552580e-bfe8-4104-bfab-3831c19793a6-c000.snappy.parquet.crc (stored 0%)\n"
          ]
        }
      ]
    },
    {
      "cell_type": "code",
      "source": [
        "# Convert Spark DataFrame to Pandas and Save as CSV\n",
        "sdf.toPandas().to_csv(\"/content/predicted_fares.csv\", index=False)\n"
      ],
      "metadata": {
        "id": "hX8Hghxoe127"
      },
      "execution_count": 35,
      "outputs": []
    },
    {
      "cell_type": "code",
      "source": [],
      "metadata": {
        "id": "EDy2LqIzjrs4"
      },
      "execution_count": null,
      "outputs": []
    }
  ]
}